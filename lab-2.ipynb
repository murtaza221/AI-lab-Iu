{
 "cells": [
  {
   "cell_type": "code",
   "execution_count": 1,
   "metadata": {},
   "outputs": [
    {
     "name": "stdout",
     "output_type": "stream",
     "text": [
      "6\n"
     ]
    }
   ],
   "source": [
    "def add(a, b):\n",
    "    print(a+b)\n",
    "    pass\n",
    "\n",
    "add(2,4)"
   ]
  },
  {
   "cell_type": "code",
   "execution_count": 2,
   "metadata": {},
   "outputs": [
    {
     "name": "stdout",
     "output_type": "stream",
     "text": [
      "[25, 45, 35, 27]\n"
     ]
    }
   ],
   "source": [
    "def addvaluetoList(mylist, value):\n",
    "    for x in range(0, len(mylist)):\n",
    "        mylist[x]+=value\n",
    "    print(mylist)\n",
    "    pass\n",
    "\n",
    "addvaluetoList([20,40,30,22], 5)"
   ]
  },
  {
   "cell_type": "code",
   "execution_count": 4,
   "metadata": {},
   "outputs": [
    {
     "name": "stdout",
     "output_type": "stream",
     "text": [
      "php\n",
      "malayalam\n"
     ]
    }
   ],
   "source": [
    "def Palindrome(s):\n",
    "    for x in s:\n",
    "        if (x==x[::-1]):\n",
    "            print(x)\n",
    "s=[\"php\",\"star\",\"malayalam\"]\n",
    "Palindrome(s)"
   ]
  },
  {
   "cell_type": "code",
   "execution_count": 6,
   "metadata": {},
   "outputs": [
    {
     "name": "stdout",
     "output_type": "stream",
     "text": [
      "7\n"
     ]
    }
   ],
   "source": [
    "add = lambda x, y : x+y\n",
    "print(add(2,5))"
   ]
  },
  {
   "cell_type": "code",
   "execution_count": 7,
   "metadata": {},
   "outputs": [
    {
     "name": "stdout",
     "output_type": "stream",
     "text": [
      "[100, 400, 900, 1600, 2500]\n"
     ]
    }
   ],
   "source": [
    "square = lambda x: x*x\n",
    "print([square(i) for i in [10, 20, 30, 40, 50]])"
   ]
  },
  {
   "cell_type": "code",
   "execution_count": 14,
   "metadata": {},
   "outputs": [
    {
     "name": "stdout",
     "output_type": "stream",
     "text": [
      "Name :  ali\n",
      "ID :  12\n",
      "1\n",
      "Name :  hira\n",
      "ID :  13\n",
      "2\n"
     ]
    }
   ],
   "source": [
    "# class object\n",
    "\n",
    "class student:\n",
    "    count = 0 # class variable\n",
    "    def __init__(self, name, sid):\n",
    "        self.name = name\n",
    "        self.sid = sid\n",
    "        student.count+=1\n",
    "        pass\n",
    "    \n",
    "    def getdata(self):\n",
    "        print(\"Name : \", self.name)\n",
    "        print(\"ID : \", self.sid)\n",
    "        pass\n",
    "    \n",
    "\n",
    "if __name__=='__main__':\n",
    "    s = student(\"ali\", 12)\n",
    "    student.getdata(s)\n",
    "    print(student.count)\n",
    "    s2 = student(\"hira\", 13)\n",
    "    s2.getdata()\n",
    "    print(s2.count)\n",
    "        \n"
   ]
  },
  {
   "cell_type": "code",
   "execution_count": 17,
   "metadata": {},
   "outputs": [
    {
     "name": "stdout",
     "output_type": "stream",
     "text": [
      "Name :  ali\n",
      "Name :  hira\n"
     ]
    }
   ],
   "source": [
    "# inheritance\n",
    "'''\n",
    "- single \n",
    "-Multilevel\n",
    "-hierarical\n",
    "-multiple\n",
    "\n",
    "class gamer:\n",
    "    pass\n",
    "class employee:\n",
    "    pass\n",
    "class PF(empolyee):\n",
    "    pass\n",
    "class PF_staff(PF):\n",
    "    pass\n",
    "class VF(empolyee, gamer):\n",
    "    pass\n",
    "    \n",
    "'''\n",
    "\n",
    "class employee:\n",
    "    def __init__(self, name):\n",
    "        self.name = name\n",
    "        pass\n",
    "    def getdata(self):\n",
    "        print(\"Name : \", self.name)\n",
    "        pass\n",
    "    pass\n",
    "\n",
    "class PF(employee):\n",
    "    def __init__(self, name):\n",
    "        employee.__init__(self, name)\n",
    "        pass\n",
    "    pass\n",
    "\n",
    "if __name__ == '__main__':\n",
    "    e = employee(\"ali\")\n",
    "    e.getdata()\n",
    "    \n",
    "    e1= PF(\"hira\")\n",
    "    e1.getdata()"
   ]
  },
  {
   "cell_type": "code",
   "execution_count": null,
   "metadata": {},
   "outputs": [],
   "source": []
  }
 ],
 "metadata": {
  "kernelspec": {
   "display_name": "Python 3",
   "language": "python",
   "name": "python3"
  },
  "language_info": {
   "codemirror_mode": {
    "name": "ipython",
    "version": 3
   },
   "file_extension": ".py",
   "mimetype": "text/x-python",
   "name": "python",
   "nbconvert_exporter": "python",
   "pygments_lexer": "ipython3",
   "version": "3.8.5"
  }
 },
 "nbformat": 4,
 "nbformat_minor": 2
}
