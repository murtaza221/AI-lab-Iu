{
 "cells": [
  {
   "cell_type": "code",
   "execution_count": 1,
   "metadata": {},
   "outputs": [],
   "source": [
    "class Room():\n",
    "    \n",
    "    def __init__(self, location, status = \"dirty\"):\n",
    "        self.location = location\n",
    "        self.status = status\n",
    "        pass\n",
    "    pass"
   ]
  },
  {
   "cell_type": "code",
   "execution_count": 2,
   "metadata": {},
   "outputs": [],
   "source": [
    "class TwoRoomEnvironment():\n",
    "    \n",
    "    def __init__(self, agent):\n",
    "        self.r1 = Room(\"A\", \"dirty\")\n",
    "        self.r2 = Room(\"B\", \"dirty\")\n",
    "        self.agent = agent\n",
    "        self.currentroom = self.r1\n",
    "        self.step = 1\n",
    "        self.action = \"\"\n",
    "        pass\n",
    "    \n",
    "    def executeSteps(self, n):\n",
    "        for i in range(0, n):\n",
    "            print(\"Perception is [%s , %s]\" %(self.currentroom.location, self.currentroom.status))\n",
    "            self.agent.percept(self)\n",
    "            self.action = self.agent.act()\n",
    "            \n",
    "            if self.action == \"clean\":\n",
    "                self.currentroom.status = \"clean\"\n",
    "            elif self.action == \"right\":\n",
    "                print (\"Moving to Right -> B\")\n",
    "                self.currentroom = self.r2\n",
    "            else:\n",
    "                print(\"Moving to left -> A\")\n",
    "                self.currentroom = self.r1\n",
    "                self.step+=1\n",
    "                print(\"step : \", self.step)\n",
    "                print(\"\\n\")\n",
    "            pass\n",
    "        pass    \n",
    "    pass\n"
   ]
  },
  {
   "cell_type": "code",
   "execution_count": 3,
   "metadata": {},
   "outputs": [
    {
     "name": "stdout",
     "output_type": "stream",
     "text": [
      "Perception is [A , dirty]\n",
      "Perception is [A , clean]\n",
      "Moving to Right -> B\n",
      "Perception is [B , dirty]\n",
      "Perception is [B , clean]\n",
      "Moving to left -> A\n",
      "step :  2\n",
      "\n",
      "\n",
      "Perception is [A , clean]\n",
      "Moving to Right -> B\n",
      "Perception is [B , clean]\n",
      "Moving to left -> A\n",
      "step :  3\n",
      "\n",
      "\n",
      "Perception is [A , clean]\n",
      "Moving to Right -> B\n",
      "Perception is [B , clean]\n",
      "Moving to left -> A\n",
      "step :  4\n",
      "\n",
      "\n",
      "Perception is [A , clean]\n",
      "Moving to Right -> B\n",
      "Perception is [B , clean]\n",
      "Moving to left -> A\n",
      "step :  5\n",
      "\n",
      "\n"
     ]
    }
   ],
   "source": [
    "class Vacuum_agent():\n",
    "    \n",
    "    def __init__(self):\n",
    "        pass\n",
    "    \n",
    "    def percept(self , env):\n",
    "        self.env = env\n",
    "        pass\n",
    "    \n",
    "    def act(self):\n",
    "        if env.currentroom.status == \"dirty\":\n",
    "            return \"clean\"\n",
    "        if env.currentroom.location == \"A\":\n",
    "            return \"right\"\n",
    "        else:\n",
    "            return \"left\"\n",
    "        pass\n",
    "    pass\n",
    "    \n",
    "if __name__ == \"__main__\":\n",
    "    vg = Vacuum_agent()\n",
    "    env = TwoRoomEnvironment(vg)\n",
    "    env.executeSteps(10)"
   ]
  },
  {
   "cell_type": "code",
   "execution_count": null,
   "metadata": {},
   "outputs": [],
   "source": []
  }
 ],
 "metadata": {
  "kernelspec": {
   "display_name": "Python 3",
   "language": "python",
   "name": "python3"
  },
  "language_info": {
   "codemirror_mode": {
    "name": "ipython",
    "version": 3
   },
   "file_extension": ".py",
   "mimetype": "text/x-python",
   "name": "python",
   "nbconvert_exporter": "python",
   "pygments_lexer": "ipython3",
   "version": "3.8.5"
  }
 },
 "nbformat": 4,
 "nbformat_minor": 4
}
